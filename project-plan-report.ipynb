{
 "cells": [
  {
   "cell_type": "code",
   "execution_count": 14,
   "metadata": {},
   "outputs": [],
   "source": [
    "# libraries\n",
    "import numpy as np\n",
    "import pandas as pd\n",
    "# !pip install altair;\n",
    "import altair as alt\n",
    "import datetime\n",
    "# !pip install sklearn\n",
    "from sklearn.linear_model import LinearRegression\n",
    "from sklearn.metrics import r2_score\n",
    "from sklearn.preprocessing import add_dummy_feature\n",
    "\n",
    "alt.data_transformers.disable_max_rows();"
   ]
  },
  {
   "cell_type": "markdown",
   "metadata": {},
   "source": [
    "# PSTAT 100 Project Plan Report\n",
    "\n",
    "0. Background\n",
    "1. Data description\n",
    "2. Initial exporations\n",
    "3. Planned work"
   ]
  },
  {
   "cell_type": "markdown",
   "metadata": {},
   "source": [
    "## Group Information\n",
    "\n",
    "**Group members**: Harleen Kaur (Member 1), Amelia Meyer (Member 2)\n",
    "\n",
    "**Contributions**:\n",
    "1. Member 1 ...\n",
    "2. Member 2 ..."
   ]
  },
  {
   "cell_type": "markdown",
   "metadata": {},
   "source": [
    "## Background: Trending Videos on Youtube (US)"
   ]
  },
  {
   "cell_type": "markdown",
   "metadata": {},
   "source": [
    "<center><img src='https://fs-prod-cdn.nintendo-europe.com/media/images/10_share_images/games_15/nintendo_switch_download_software_1/H2x1_NSwitchDS_YouTube.jpg' style= 'width:100:px, height:100:px'></center>\n"
   ]
  },
  {
   "cell_type": "markdown",
   "metadata": {},
   "source": [
    "According to Cloudfare, YouTube was the 8th most visited site, and the 3rd most visited social media site in 2021. [See this cbs article for more rankings.](https://www.cbsnews.com/news/tiktok-google-facebook-social-media-internet/). With millions of users in the US and around the world, YouTube has developed its own gravitational force, pulling people in to watch content varying from makeup tutorials to [scuba-divers solving cold cases](https://www.washingtonpost.com/nation/2021/12/10/youtube-scuba-diver-cold-case/). \n",
    "\n",
    "The most popular content on YouTube is referred to as 'trending' - a term that gained popularity due to Twitter's hashtags. Luckily for us, YouTube tracks their [top trending videos](https://www.macmillandictionaryblog.com/trending) which, according to Variety magazine, are measured by user interactions \"(number of views, shares, comments and likes)\". \n",
    "\n",
    "The purpose of our project will be to analyze the top trending videos on YouTube in the US using a dataset of the daily record of the top trending videos. Our goals are to get a better understanding of the types of videos users are interested in  **...come back and add other things we want to do with the data**. \n",
    "\n",
    "[View Youtube's Trending Feed](https://www.youtube.com/feed/trending)  \n",
    "[Check out the influence of YouTube on today's topics](https://www.forbes.com/sites/under30network/2017/06/20/why-youtube-stars-influence-millennials-more-than-traditional-celebrities/?sh=7c13084148c6)\n",
    "\n",
    "\n",
    "# CHECK\n",
    "*Introduce the topic of your project.*\n",
    "* What area or areas of study are you in dialogue with for your project?\n",
    "* What is your data about, broadly? \n",
    "* What is the motivation for collecting the kind of data you're working with, and what sorts of things could you potentially learn?\n",
    "\n",
    "You may find it useful to write up the data description first, think about what the reader should know before they peek at your dataset, and then come back to the background section. I often write the background sections of your assignments last, once I have a sense of what kind of information would be most useful going into the assignment.**"
   ]
  },
  {
   "cell_type": "markdown",
   "metadata": {},
   "source": [
    "# Data Description\n",
    "\n",
    "## Basic Information\n",
    "\n",
    "#### General Description\n",
    "\n",
    "The dataset we will be using for our analysis is the [YouTube Trending Video Dataset](https://www.kaggle.com/rsrishav/youtube-trending-video-dataset) which documents the daily record of the top trending videos on YouTube(updated daily). \n",
    "\n",
    "#### Source\n",
    "Our dataset was collected by Rishav Sharma and made available through Kaggle with for the purpose of user analysis. Rishav lists possible projects as sentiment analysis, categorization based on video comments and statistcs, machine learning to generate comments, predicting popularity of new videos, and general analysis over time. \n",
    "\n",
    "#### Collection Methods:\n",
    "The data was collected using the [YouTube API](https://developers.google.com/youtube/v3) as provided by Google which uses web-scraping. \n",
    "\n",
    "#### Sampling Design and Scope of Inference\n",
    "We'll be focusing specifically on the dataset for top trending YouTube videos in the US. The dataset includes several months of data, with up to 200 listed trending videos per day. The sample population is all YouTube videos in the US. The sample frame is the top trending YouTube videos in the US. Our scope of inference will include videos that are available to users in the US. \n",
    "\n",
    "\n",
    "\n",
    "# CHECK \n",
    "Indicate the relevant population. If identifiable from data documentation, state the sampling frame and sampling mechanism and indicate the scope of inference. If no information is available about the sampling design, indicate this instead, and discuss the extent to which having no scope of inference is a limitation for the particular topic you're investigating."
   ]
  },
  {
   "cell_type": "markdown",
   "metadata": {},
   "source": [
    "## Data Semantics and Structure\n",
    "\n",
    "#### Units and Observations\n",
    "The observational units are the trending videos. One unit is one video that appeared on the top trending YouTube videos list in the US. "
   ]
  },
  {
   "cell_type": "markdown",
   "metadata": {},
   "source": [
    "#### Variable descriptions\n",
    "\n",
    "If your dataset is large and you'll only work with a subset of the total available variables, limit your attention to the variables that you'll work with. Here's a template you can work with:\n",
    "\n",
    "Name | Variable description | Type | Units of measurement\n",
    "---|---|---|---\n",
    "title | video title | object or string | ...\n",
    "date_published | date video was published | object or string | ...\n",
    "channel_name | name of channel video was published on | object or string | ...\n",
    "category | category video falls under; genre of video | object or string | ...\n",
    "trending_date | date video was trending | object or string | ...\n",
    "tags | tags attached to video; video identifiers added by video creator | object or string | ...\n",
    "view_count | number of views video received | int64 or integers | ...\n",
    "likes | number of likes video received | int64 or integers | ...\n",
    "dislikes | number of dislikes video received | int64 or integers | ...\n",
    "comment_count | number of comments on video | int64 or integers | ...\n",
    "comments_disabled | whether the comments were disabled | bool or true/false | ...\n",
    "ratings_disabled | whether the ratings were disabled | bool or true/false | ...\n",
    "year_published | what year the vide was published | int64 or integers | 4-digit year values\n",
    "month_published | what month the year was published | int64 or integers | 1 or 2-digit month value\n",
    "year_trending | what year the video was trending | int64 or integers | 4-digit year value\n",
    "month_trending | what month the video was trending | int64 or integers | 1 or 2-digit month value\n"
   ]
  },
  {
   "cell_type": "markdown",
   "metadata": {},
   "source": [
    "#### Example rows"
   ]
  },
  {
   "cell_type": "code",
   "execution_count": 10,
   "metadata": {
    "tags": []
   },
   "outputs": [
    {
     "data": {
      "text/html": [
       "<div>\n",
       "<style scoped>\n",
       "    .dataframe tbody tr th:only-of-type {\n",
       "        vertical-align: middle;\n",
       "    }\n",
       "\n",
       "    .dataframe tbody tr th {\n",
       "        vertical-align: top;\n",
       "    }\n",
       "\n",
       "    .dataframe thead th {\n",
       "        text-align: right;\n",
       "    }\n",
       "</style>\n",
       "<table border=\"1\" class=\"dataframe\">\n",
       "  <thead>\n",
       "    <tr style=\"text-align: right;\">\n",
       "      <th></th>\n",
       "      <th>title</th>\n",
       "      <th>date_published</th>\n",
       "      <th>channel_name</th>\n",
       "      <th>category</th>\n",
       "      <th>trending_date</th>\n",
       "      <th>tags</th>\n",
       "      <th>view_count</th>\n",
       "      <th>likes</th>\n",
       "      <th>dislikes</th>\n",
       "      <th>comment_count</th>\n",
       "      <th>comments_disabled</th>\n",
       "      <th>ratings_disabled</th>\n",
       "      <th>year_published</th>\n",
       "      <th>month_published</th>\n",
       "      <th>year_trending</th>\n",
       "      <th>month_trending</th>\n",
       "    </tr>\n",
       "  </thead>\n",
       "  <tbody>\n",
       "    <tr>\n",
       "      <th>0</th>\n",
       "      <td>I ASKED HER TO BE MY GIRLFRIEND...</td>\n",
       "      <td>2020-08-11</td>\n",
       "      <td>Brawadis</td>\n",
       "      <td>People &amp; Blogs</td>\n",
       "      <td>2020-08-12</td>\n",
       "      <td>brawadis|prank|basketball|skits|ghost|funny vi...</td>\n",
       "      <td>1514614</td>\n",
       "      <td>156908</td>\n",
       "      <td>5855</td>\n",
       "      <td>35313</td>\n",
       "      <td>False</td>\n",
       "      <td>False</td>\n",
       "      <td>2020</td>\n",
       "      <td>8</td>\n",
       "      <td>2020</td>\n",
       "      <td>8</td>\n",
       "    </tr>\n",
       "    <tr>\n",
       "      <th>1</th>\n",
       "      <td>Apex Legends | Stories from the Outlands – “Th...</td>\n",
       "      <td>2020-08-11</td>\n",
       "      <td>Apex Legends</td>\n",
       "      <td>Gaming</td>\n",
       "      <td>2020-08-12</td>\n",
       "      <td>Apex Legends|Apex Legends characters|new Apex ...</td>\n",
       "      <td>2381688</td>\n",
       "      <td>146739</td>\n",
       "      <td>2794</td>\n",
       "      <td>16549</td>\n",
       "      <td>False</td>\n",
       "      <td>False</td>\n",
       "      <td>2020</td>\n",
       "      <td>8</td>\n",
       "      <td>2020</td>\n",
       "      <td>8</td>\n",
       "    </tr>\n",
       "    <tr>\n",
       "      <th>2</th>\n",
       "      <td>I left youtube for a month and THIS is what ha...</td>\n",
       "      <td>2020-08-11</td>\n",
       "      <td>jacksepticeye</td>\n",
       "      <td>Entertainment</td>\n",
       "      <td>2020-08-12</td>\n",
       "      <td>jacksepticeye|funny|funny meme|memes|jacksepti...</td>\n",
       "      <td>2038853</td>\n",
       "      <td>353787</td>\n",
       "      <td>2628</td>\n",
       "      <td>40221</td>\n",
       "      <td>False</td>\n",
       "      <td>False</td>\n",
       "      <td>2020</td>\n",
       "      <td>8</td>\n",
       "      <td>2020</td>\n",
       "      <td>8</td>\n",
       "    </tr>\n",
       "    <tr>\n",
       "      <th>3</th>\n",
       "      <td>XXL 2020 Freshman Class Revealed - Official An...</td>\n",
       "      <td>2020-08-11</td>\n",
       "      <td>XXL</td>\n",
       "      <td>Music</td>\n",
       "      <td>2020-08-12</td>\n",
       "      <td>xxl freshman|xxl freshmen|2020 xxl freshman|20...</td>\n",
       "      <td>496771</td>\n",
       "      <td>23251</td>\n",
       "      <td>1856</td>\n",
       "      <td>7647</td>\n",
       "      <td>False</td>\n",
       "      <td>False</td>\n",
       "      <td>2020</td>\n",
       "      <td>8</td>\n",
       "      <td>2020</td>\n",
       "      <td>8</td>\n",
       "    </tr>\n",
       "  </tbody>\n",
       "</table>\n",
       "</div>"
      ],
      "text/plain": [
       "                                               title date_published  \\\n",
       "0                 I ASKED HER TO BE MY GIRLFRIEND...     2020-08-11   \n",
       "1  Apex Legends | Stories from the Outlands – “Th...     2020-08-11   \n",
       "2  I left youtube for a month and THIS is what ha...     2020-08-11   \n",
       "3  XXL 2020 Freshman Class Revealed - Official An...     2020-08-11   \n",
       "\n",
       "    channel_name        category trending_date  \\\n",
       "0       Brawadis  People & Blogs    2020-08-12   \n",
       "1   Apex Legends          Gaming    2020-08-12   \n",
       "2  jacksepticeye   Entertainment    2020-08-12   \n",
       "3            XXL           Music    2020-08-12   \n",
       "\n",
       "                                                tags  view_count   likes  \\\n",
       "0  brawadis|prank|basketball|skits|ghost|funny vi...     1514614  156908   \n",
       "1  Apex Legends|Apex Legends characters|new Apex ...     2381688  146739   \n",
       "2  jacksepticeye|funny|funny meme|memes|jacksepti...     2038853  353787   \n",
       "3  xxl freshman|xxl freshmen|2020 xxl freshman|20...      496771   23251   \n",
       "\n",
       "   dislikes  comment_count  comments_disabled  ratings_disabled  \\\n",
       "0      5855          35313              False             False   \n",
       "1      2794          16549              False             False   \n",
       "2      2628          40221              False             False   \n",
       "3      1856           7647              False             False   \n",
       "\n",
       "   year_published  month_published  year_trending  month_trending  \n",
       "0            2020                8           2020               8  \n",
       "1            2020                8           2020               8  \n",
       "2            2020                8           2020               8  \n",
       "3            2020                8           2020               8  "
      ]
     },
     "execution_count": 10,
     "metadata": {},
     "output_type": "execute_result"
    }
   ],
   "source": [
    "# load new csv\n",
    "trending = pd.read_csv(r'C:\\Users\\candy\\Documents\\PSTAT100FinalProject\\trending.csv')\n",
    "\n",
    "# print a few example rows of dataset in tidy format\n",
    "trending.drop(columns=['Unnamed: 0'], inplace=True)\n",
    "\n",
    "trending.head(4)"
   ]
  },
  {
   "cell_type": "markdown",
   "metadata": {},
   "source": [
    "---\n",
    "## 2. Initial explorations\n",
    "\n",
    "At this stage, you may spend most of your effort on the computing side tidying up the data. You're not expected to complete a thorough exploratory analysis, and if your dataset was especially messy to start with, you may not even begin your exploratory analysis by the time you prepare this report. You have the option to leave exploration for the next stage of work and simply report basic properties of the dataset, but you should at minimum address the items in the 'basic properties' section below."
   ]
  },
  {
   "cell_type": "markdown",
   "metadata": {},
   "source": [
    "### Basic properties of the dataset\n",
    "\n",
    "Help the reader get acquainted with your dataset on a simple level by identifying characteristics of the dataset and variable summaries. Some amount of code is fine here, but try to use code cells sparingly.\n",
    "\n",
    "**Dimensions**: state the dimensions of the data (in tidy format, of course).\n",
    "\n",
    "**Missing values**: Are there missing values? If so, why are they missing?\n",
    "\n",
    "**Variable summaries**: Provide simple variable summaries for the most important variables in your dataset. Preferably, you'll do this for all variables, but if you have a large number, you might need to prioritize and focus on the ones most of interest. What exactly you do is a little case-specific, but think of things like means and variances, min/max, number of levels and observation counts for categorical variables, etc."
   ]
  },
  {
   "cell_type": "markdown",
   "metadata": {},
   "source": [
    "*Start your draft here.*"
   ]
  },
  {
   "cell_type": "code",
   "execution_count": 16,
   "metadata": {},
   "outputs": [
    {
     "data": {
      "text/plain": [
       "\"BTS (방탄소년단) 'Butter' Official MV\""
      ]
     },
     "execution_count": 16,
     "metadata": {},
     "output_type": "execute_result"
    }
   ],
   "source": [
    "# Most viewed video\n",
    "trending.title.iloc[trending.view_count.idxmax()]"
   ]
  },
  {
   "cell_type": "code",
   "execution_count": 17,
   "metadata": {},
   "outputs": [
    {
     "data": {
      "text/plain": [
       "\"BTS (방탄소년단) 'Butter' Official MV\""
      ]
     },
     "execution_count": 17,
     "metadata": {},
     "output_type": "execute_result"
    }
   ],
   "source": [
    "# Most liked video\n",
    "trending.title.iloc[trending.likes.idxmax()]"
   ]
  },
  {
   "cell_type": "code",
   "execution_count": 18,
   "metadata": {},
   "outputs": [
    {
     "data": {
      "text/plain": [
       "\"BLACKPINK - 'Ice Cream (with Selena Gomez)' M/V\""
      ]
     },
     "execution_count": 18,
     "metadata": {},
     "output_type": "execute_result"
    }
   ],
   "source": [
    "trending.title.iloc[trending.dislikes.idxmax()]"
   ]
  },
  {
   "cell_type": "markdown",
   "metadata": {},
   "source": [
    "### Exploratory analysis\n",
    "\n",
    "If you were lucky and your dataset was neat, you should aim to include a few exploratory plots or tables here -- they don't need to be polished at this stage, but you should select plots that are informative (rather than including all plots you may have looked at). \n",
    "\n",
    "If you do include exploratory graphics or tables, please explain in a sentence or two what each one shows. Try to include a minimum of code. Consider [saving your plots as images](https://altair-viz.github.io/user_guide/saving_charts.html#png-svg-and-pdf-format) and inputting images into markdown cells instead of generating them anew via code cells."
   ]
  },
  {
   "cell_type": "markdown",
   "metadata": {},
   "source": [
    "---\n",
    "## 3. Planned work\n",
    "\n",
    "Here you should indicate your tentative ideas for your analysis. Don't worry, these aren't final -- you can always change your mind later or shift gears if they don't pan out. The objective is to have you start thinking ahead about what you'll do."
   ]
  },
  {
   "cell_type": "markdown",
   "metadata": {},
   "source": [
    "### Questions\n",
    "\n",
    "Please propose two focused questions that you plan to explore.\n",
    "\n",
    "1. Is there a pattern to which videos make it on the top trending video list? \n",
    "2. Can we predict whether a video will make it on the top trending video list?"
   ]
  },
  {
   "cell_type": "markdown",
   "metadata": {},
   "source": [
    "### Proposed approaches\n",
    "\n",
    "For each question, please describe an idea or two about how you might approach the question.\n",
    "\n",
    "1. Look at the variables associated with each video such as their tag, category, words used in the title. \n",
    "2. *Approach 2 here*"
   ]
  },
  {
   "cell_type": "markdown",
   "metadata": {
    "tags": []
   },
   "source": [
    "---\n",
    "## Submission Checklist\n",
    "1. Save file to confirm all changes are on disk\n",
    "2. Run *Kernel > Restart & Run All* to execute all code from top to bottom\n",
    "3. Save file again to write any new output to disk\n",
    "4. Select *File > Download as > HTML*.\n",
    "5. Open in Google Chrome and print to PDF on A3 paper in portrait orientation.\n",
    "6. Submit to Gradescope"
   ]
  }
 ],
 "metadata": {
  "kernelspec": {
   "display_name": "Python 3",
   "language": "python",
   "name": "python3"
  },
  "language_info": {
   "codemirror_mode": {
    "name": "ipython",
    "version": 3
   },
   "file_extension": ".py",
   "mimetype": "text/x-python",
   "name": "python",
   "nbconvert_exporter": "python",
   "pygments_lexer": "ipython3",
   "version": "3.9.4"
  },
  "toc": {
   "base_numbering": 1,
   "nav_menu": {},
   "number_sections": true,
   "sideBar": true,
   "skip_h1_title": false,
   "title_cell": "Table of Contents",
   "title_sidebar": "Contents",
   "toc_cell": false,
   "toc_position": {},
   "toc_section_display": true,
   "toc_window_display": false
  }
 },
 "nbformat": 4,
 "nbformat_minor": 4
}
