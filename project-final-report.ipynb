{
 "cells": [
  {
   "cell_type": "markdown",
   "metadata": {},
   "source": [
    "# PSTAT 100 Project report\n",
    "\n",
    "\n",
    "## Comments from Trevor about the proposal:\n",
    "**OVERALL: I'd like to see a bit more focus on some theme. I think if you want to understand popularity it would make sense to focus on views or likes (interesting question: what's the difference?) and see if other variables seem to explain the number of views/likes.** \n",
    "\n",
    "**SAMPLING DESIGN AND SCOPE: hmm, this is a little complicated because it sounds like your data are the top videos each day, so as you look at these over time it will comprise the videos that are most popular for the study interval. it's a bit hard to say\n",
    "what that represents, if any natural collection of videos. I think there's not really any sampling going on here,\n",
    "which is fine; maybe just limit this to your description of how the videos are collected, omitting the last two sentences**  \n",
    "\n",
    "**EXPLORATORY ANALYSIS: maybe transform axes (log) so the data scatter is a bit more visible. i like the overall idea of looking at relationships between category, likes, views, and comments. is there a specific relationship that seems strong that you could show more clearly in these graphics?**     \n",
    "\n",
    "**FURTHER: Q1 - here is tricky because you *only* have information on the trending videos, so you can't exactly say that relative to non-trending videos, trending videos have such-and-such properties. but you *can* look for patterns *among* the trending videos, as you've started to do already with the exploratory plots. do they exhibit some relationship between two or more variables? that kind of thing. the limitation is simply that any pattern you *do* find you can't know for sure that it's *distinctive of* trending videos  Q2 - i like this; could you translate the question into more qualitative terms? like i can see you thinking about whether negative feedback might prompt someone to turn off comments and whether that's reflected in the data. so i think the question would be more interesting if it's phrased according to the motivating thought rather than in a stats-y way. could you say something more specific than 'look at'? any particular visualizations you want to make or 9\n",
    "summaries you want to calculate?**   \n",
    "\n",
    "## Harleen's Notes\n",
    "\n",
    "Coronavirus\n",
    "        ⁃       Sudden increase in views of news genre over the years\n",
    "\n",
    "Difference between views and likes\n",
    "\n",
    "Comments/ ratings disabled\n",
    "        ⁃       Which genres?\n",
    "        ⁃       Do these have higher amount of views or likes? Well they are trending?\n",
    "        ⁃       How are they trending if they don’t have any engagement.. only views and likes?\n",
    "        ⁃       Does negative feedback prompt individuals to disable?\n",
    "\n",
    "Relationship between two or more variables\n",
    "        ⁃       PCA to analyze relationships among variables\n",
    "        ⁃       Correlation Matrix\n",
    "        ⁃       Calculate some summary tables\n",
    "        \n",
    "        \n",
    "\n",
    "#### General guidelines\n",
    "\n",
    "The objective of your final report is to provide a thorough overview of your project. It need not be long; quality and clarity is preferred over quantity. Aim for 3-5 pages; if you feel that further material needs to be included, you can add an appendix with supplementary information, tables, and plots.\n",
    "\n",
    "#### Contents\n",
    "\n",
    "The report should include the following elements:\n",
    "\n",
    "* Abstract\n",
    "    + One-paragraph summary of the report contents.\n",
    "* Background\n",
    "    + Adapt your interim report.\n",
    "* Aims\n",
    "    + State the specific questions and approaches you took up.\n",
    "* Data description\n",
    "    + Adapt your interim report.\n",
    "    + Possibly include select results of your exploratory analysis.\n",
    "* Methods \n",
    "    + Description of the methods used in your analysis.\n",
    "* Results\n",
    "    + Present the figures and tables summarizing your analysis.\n",
    "* Discussion\n",
    "    + Highlight your main findings and takeaways.\n",
    "    + Offer further commentary: caveats, further steps, etc.\n",
    "\n",
    "These need not be set apart by headers; you are free to determine how to organize your report. For an example, please refer to the adaptation of HW3 into a report provided during week 8.\n",
    "\n",
    "#### Format and appearance \n",
    "\n",
    "* No codes should appear in your report.\n",
    "* All figures and tables should have captions.\n",
    "* Figures should be appropriately sized and labeled.\n",
    "* No text from the template should appear in your report other than headers.\n",
    "* The total length should not exceed 8 pages.\n",
    "\n",
    "### Evaluation\n",
    "\n",
    "Your report will be evaluated based on:\n",
    "* (format) adherence to formatting and appearance guidelines;\n",
    "* (clarity) clarity and thoughtfulness in written voice;\n",
    "* (accuracy) apparent accuracy of quantitative results and technical information;\n",
    "* (applied a PSTAT100 technique) successful use of one or more techniques in the course.\n",
    "\n",
    "Notice that no credit is tied to the nature of the results; you can earn credit equally well with an analysis that says little as with one that says a lot. **Negative, neutral, or ambiguous results -- analyses that do not produce any particular insight -- are more than acceptable.** If your analyses turn in one of these directions, present them as clearly as possible, and consider speculating in your discussion section about the absence of signficicant/interpretable findings.\n",
    "\n",
    "---"
   ]
  },
  {
   "cell_type": "markdown",
   "metadata": {},
   "source": [
    "# Project title\n",
    "\n",
    "Harleen Kaur, Amelia Meyer\n",
    "\n",
    "#### Author contributions\n",
    "\n",
    "Harleen Kaur contributed\n",
    "\n",
    "Amelia Meyer contributed\n",
    "\n",
    "## Report Outline:\n",
    "\n",
    "#### Sections\n",
    "[Introduction](#intro)   \n",
    "[Data description](#data_description)  \n",
    "[Initial exporations](#init_explore)  \n",
    "[Planned work](#planned_work)  \n",
    "\n",
    "# FIXME\n",
    "#### Abstract\n",
    "\n",
    "Prepare an abstract *after* you've written the entire report. The abstract should be 4-6 sentences summarizing the report contents. Typically:\n",
    "* the first 1-2 sentences introduce and motivate the topic;\n",
    "* the next 1-2 sentences state the aims;\n",
    "* the next 1-2 sentences state the findings."
   ]
  },
  {
   "cell_type": "markdown",
   "metadata": {},
   "source": [
    "---\n",
    "# FIXME\n",
    "\n",
    "<a name=\"intro\"/>\n",
    "\n",
    "# Introduction"
   ]
  },
  {
   "cell_type": "markdown",
   "metadata": {},
   "source": [
    "## Background: Trending Videos on Youtube (US) (Copied from proposal)"
   ]
  },
  {
   "cell_type": "markdown",
   "metadata": {},
   "source": [
    "**I added in a bunch of images. Lmk which one you like best and we'll go with that.**"
   ]
  },
  {
   "cell_type": "markdown",
   "metadata": {},
   "source": [
    "<center><img src='https://fs-prod-cdn.nintendo-europe.com/media/images/10_share_images/games_15/nintendo_switch_download_software_1/H2x1_NSwitchDS_YouTube.jpg' style= 'width:100:px, height:100:px'></center>\n"
   ]
  },
  {
   "cell_type": "markdown",
   "metadata": {},
   "source": [
    "<center><img src='https://ammar-alyousfi.com/assets/images/2020/yta2-cover.png' style= 'width:100:px, height:100:px'></center>"
   ]
  },
  {
   "cell_type": "markdown",
   "metadata": {},
   "source": [
    "<center><img src='https://sm.ign.com/t/ign_ap/news/y/youtubes-t/youtubes-top-trending-videos-of-2021_4pgs.1200.jpg' style= 'width:100:px, height:100:px'></center>"
   ]
  },
  {
   "cell_type": "markdown",
   "metadata": {},
   "source": [
    "<center><img src='https://www.smg-intl.com/wp-content/uploads/2021/09/MicrosoftTeams-image-41.png' style= 'width:100:px, height:100:px'></center>"
   ]
  },
  {
   "cell_type": "markdown",
   "metadata": {},
   "source": [
    "<center><img src='https://cdn.searchenginejournal.com/wp-content/uploads/2020/12/2ff5499e-0bf8-4ffc-b205-e496aca01204-5fe397b4e68ca-1520x800.jpeg' style= 'width:100:px, height:100:px'></center>"
   ]
  },
  {
   "cell_type": "markdown",
   "metadata": {},
   "source": [
    "<center><img src='https://api.backlinko.com/app/uploads/2020/02/get-youtube-views-post-banner.png' style= 'width:100:px, height:100:px'></center>"
   ]
  },
  {
   "cell_type": "markdown",
   "metadata": {},
   "source": [
    "<center><img src='https://blog.youtube/static/blog_youtube/images/youtube_social_200x200.png' style= 'width:100:px, height:100:px'></center>"
   ]
  },
  {
   "cell_type": "markdown",
   "metadata": {},
   "source": [
    "According to Cloudfare, YouTube was the 8th most visited site, and the 3rd most visited social media site in 2021. [See this cbs article for more rankings](https://www.cbsnews.com/news/tiktok-google-facebook-social-media-internet/). With millions of users in the US and around the world, YouTube has developed its own gravitational force, pulling people in to watch content varying from makeup tutorials to [scuba-divers solving cold cases](https://www.washingtonpost.com/nation/2021/12/10/youtube-scuba-diver-cold-case/). \n",
    "\n",
    "The most popular content on YouTube is referred to as 'trending' - a term that gained popularity due to Twitter's hashtags. Luckily for us, YouTube tracks their [top trending videos](https://www.youtube.com/feed/trending) which, according to Variety magazine, are measured by user interactions \"number of views, shares, comments and likes\". "
   ]
  },
  {
   "cell_type": "markdown",
   "metadata": {},
   "source": [
    "### Aims\n",
    "\n",
    "*This should be non-technical, but detailed enough to enable the reader to imagine the contents of the report that follows.*\n",
    "\n",
    "The purpose of our project will be to analyze the top trending videos on YouTube in the US. Our dataset only contains videos in the US that appeared on the Top Trending list for any given day in the last 3 years so our analysis will not extend YouTube videos in general. ...\n",
    "\n",
    "Our goals are to get a better understanding of the types of videos that appear on the Top Trending list in the US. Is there a pattern to videos in that receive more likes? Is there a general pattern amongst videos that are on the list? Which genres are most popular?  Which genres are the least popular on the Top Trending Videos List? Which genres have the most dislikes? Which genres have the most likes? Are there any consistent Top-Trenders? We'l use proportion of likes, dislikes, number of entries (which equals number of days the video has appeared on trending). Is there a yearly pattern to the types of videos that are on Top-Trending? ...\n",
    "\n",
    "**AIMS**  \n",
    "**APPROACHES**  \n",
    "**FINDINGS**\n",
    "\n",
    "[More on how YouTube influences the topics of today](https://www.forbes.com/sites/under30network/2017/06/20/why-youtube-stars-influence-millennials-more-than-traditional-celebrities/?sh=7c13084148c6)"
   ]
  },
  {
   "cell_type": "markdown",
   "metadata": {},
   "source": [
    "---\n",
    "# FIXME\n",
    "## Materials and methods\n",
    "\n",
    "### Datasets\n",
    "\n",
    "Adapt the data description from your planning report. Should have narrative structure (read smoothly) and **not** contain sub-headers (basic information, data semantics and structure).\n",
    "\n",
    "The dataset we will be using for our analysis is the [YouTube Trending Video Dataset](https://www.kaggle.com/rsrishav/youtube-trending-video-dataset) which documents the daily record of the top trending videos on YouTube(updated daily). \n",
    "\n",
    "Our dataset was collected by Rishav Sharma and made available through Kaggle with for the purpose of user analysis. Rishav lists possible projects as sentiment analysis, categorization based on video comments and statistcs, machine learning to generate comments, predicting popularity of new videos, and general analysis over time. \n",
    "\n",
    "The data was collected using the [YouTube API](https://developers.google.com/youtube/v3) as provided by Google which uses web-scraping. \n",
    "\n",
    "We'll be focusing specifically on the dataset for top trending YouTube videos in the US. The dataset includes several months of data, with up to 200 listed trending videos per day. \n",
    "\n",
    "The observational units are the trending videos. One unit is one video that appeared on the top trending YouTube videos list in the US. \n",
    "\n",
    "Our dataset consists of 16 columns adn 113391 rows. There are no missing values in our dataset. Our resulting dataset consists of the variable: title, date_published channel_name, category, trending_date, tags, view_count, likes, dislikes, comment_count, comments_disabled, ratings_disabled,year_published, month_published, year_trending, month_trending. Trending dates range from 2020-08-12 to 2022-02-25.\n",
    "\n",
    "As we observed our dataset, we found some cool things. The most viewed and liked video is \"Butter\" by BTS ( a iconic KPOP songs). In fact, we see KPOP music in the top charts quite often. Curious as to which genres have the most total views, we found that music, entertainment, and gaming tend to have a highest amount of view counts.\n",
    "\n",
    "The two boolean variables in our dataset have the following allocations:  \n",
    "\n",
    "variable name | number observations with True | number of observations with False   \n",
    "---|---|--- \n",
    "comments_disabled | 1739 | 112252  \n",
    "ratings_disabled | 779 | 113212  \n",
    "\n",
    "Our cateogry variable can be represented as one of the following 15 categories:\n",
    "\n",
    "Name | Variable description | Type | Units of measurement\n",
    "---|---|---|---\n",
    "title | video title | object or string | ...\n",
    "date_published | date video was published | object or string | ...\n",
    "channel_name | name of channel video was published on | object or string | ...\n",
    "category | category video falls under; genre of video | object or string | ...\n",
    "trending_date | date video was trending | object or string | ...\n",
    "tags | tags attached to video; video identifiers added by video creator | object or string | ...\n",
    "view_count | number of views video received | int64 or integers | ...\n",
    "likes | number of likes video received | int64 or integers | ...\n",
    "dislikes | number of dislikes video received | int64 or integers | ...\n",
    "comment_count | number of comments on video | int64 or integers | ...\n",
    "comments_disabled | whether the comments were disabled | bool or true/false | ...\n",
    "ratings_disabled | whether the ratings were disabled | bool or true/false | ...\n",
    "year_published | what year the vide was published | int64 or integers | 4-digit year values\n",
    "month_published | what month the year was published | int64 or integers | 1 or 2-digit month value\n",
    "year_trending | what year the video was trending | int64 or integers | 4-digit year value\n",
    "month_trending | what month the video was trending | int64 or integers | 1 or 2-digit month value\n",
    "\n"
   ]
  },
  {
   "cell_type": "code",
   "execution_count": null,
   "metadata": {},
   "outputs": [],
   "source": [
    "# load new csv\n",
    "trending = pd.read_csv(r'C:\\Users\\candy\\Documents\\PSTAT100FinalProject\\trending.csv')\n",
    "\n",
    "# print a few example rows of dataset in tidy format\n",
    "trending.drop(columns=['Unnamed: 0'], inplace=True)\n",
    "\n",
    "trending.head(4)"
   ]
  },
  {
   "cell_type": "markdown",
   "metadata": {},
   "source": [
    "### Methods\n",
    "\n",
    "Write a single paragraph summarizing your approach to analyzing the data. Assume your audience is familiar with the methods you've used (so you don't need to explain them from first principles).\n",
    "\n",
    "The goal of providing this summary is to facilitate smooth reading of the results section -- if your approach is clearly explained here, you can simply present the results one after the next in the next section without explaining how they were obtained. So, explain just enough that your reader will be able to follow your results.\n",
    "\n",
    "If your analysis was more exploratory in nature or consisted primarily of visualizations, you can instead describe what relationships and features you were exploring or visualizing and the techniques or plot types that you used."
   ]
  },
  {
   "cell_type": "markdown",
   "metadata": {},
   "source": [
    "---\n",
    "## Results\n",
    "\n",
    "This section should show your results. You can include sub-header structure as suits your aims (or not).\n",
    "\n",
    "The easiest way to compose this section is to structure it around your figures and tables. Prepare and input your figures and tables in the order you'd like them to appear, and then draft the text. Move through the figures and tables in sequence, and for each one:\n",
    "* introduce the figure/table;\n",
    "* describe what it shows; \n",
    "* and then describe what you see (its significance). \n",
    "Keep the latter brief; you'll have an opportunity to offer more nuanced/extended commentary in the discussion section."
   ]
  },
  {
   "cell_type": "markdown",
   "metadata": {},
   "source": [
    "---\n",
    "## Discussion\n",
    "\n",
    "This section should conclude your report in 1-2 paragraphs that reiterate the findings and offer any commentary. 'Commentary' could include:\n",
    "* speculation about the cause of certain findings;\n",
    "* caveats about interpretation;\n",
    "* refining of questions or aims;\n",
    "* further topics you would have liked to explore."
   ]
  }
 ],
 "metadata": {
  "kernelspec": {
   "display_name": "Python 3",
   "language": "python",
   "name": "python3"
  },
  "language_info": {
   "codemirror_mode": {
    "name": "ipython",
    "version": 3
   },
   "file_extension": ".py",
   "mimetype": "text/x-python",
   "name": "python",
   "nbconvert_exporter": "python",
   "pygments_lexer": "ipython3",
   "version": "3.9.4"
  },
  "toc": {
   "base_numbering": 1,
   "nav_menu": {},
   "number_sections": true,
   "sideBar": true,
   "skip_h1_title": false,
   "title_cell": "Table of Contents",
   "title_sidebar": "Contents",
   "toc_cell": false,
   "toc_position": {},
   "toc_section_display": true,
   "toc_window_display": false
  }
 },
 "nbformat": 4,
 "nbformat_minor": 4
}
